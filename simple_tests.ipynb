{
 "cells": [
  {
   "cell_type": "code",
   "execution_count": 1,
   "id": "5bfdc734-9039-4980-a723-4b657b7c5a48",
   "metadata": {},
   "outputs": [],
   "source": [
    "import pandas as pd\n",
    "import numpy as np\n",
    "from sklearn.model_selection import KFold,train_test_split\n",
    "from collections import defaultdict\n",
    "import matplotlib.pyplot as plt\n",
    "\n",
    "from models.simple import SimpleRS\n",
    "from models.max_coverage import MaxCoverageRS"
   ]
  },
  {
   "cell_type": "code",
   "execution_count": 2,
   "id": "6b22c57b-f4be-46df-beb2-df38aa7f67db",
   "metadata": {},
   "outputs": [],
   "source": [
    "ratings_df = pd.read_csv('datasets/ml-latest-small/ratings.csv', encoding='latin-1')"
   ]
  },
  {
   "cell_type": "code",
   "execution_count": 3,
   "id": "d6fa5c8b-33f3-4a19-a4ef-38d0a5349e87",
   "metadata": {},
   "outputs": [],
   "source": [
    "def print_metrics(metrics):\n",
    "    combined_dict = {key: [] for key in metrics[0]}\n",
    "    for d in metrics:\n",
    "        for key, value in d.items():\n",
    "            combined_dict[key].append(round(value, 4))\n",
    "    for metric, values in combined_dict.items():\n",
    "        formatted_accuracies = \" & \".join([f\"{value:.4f}\" for value in values])\n",
    "        print(metric, formatted_accuracies)\n",
    "\n",
    "def run(model_class, data, start=5, stop=11):\n",
    "    metrics = []\n",
    "    \n",
    "    for i in range(start,stop):\n",
    "        train_df, test_df = train_test_split(data, test_size=0.2)\n",
    "\n",
    "        watched = test_df.groupby('userId')['movieId'].apply(list).reset_index()\n",
    "        true = watched['movieId'].tolist()\n",
    "        \n",
    "        model = model_class(i)\n",
    "        model.fit(train_df)\n",
    "        \n",
    "        predictions = model.predict(test_df)\n",
    "        metrics.append(model.calculate_metrics(predictions, true))\n",
    "    return metrics\n",
    "\n",
    "topk_metrics = run(SimpleRS, ratings_df)\n",
    "mc_metrics = run(MaxCoverageRS, ratings_df)"
   ]
  },
  {
   "cell_type": "code",
   "execution_count": 7,
   "id": "3258e15f-5b3f-4766-a683-3e5576f01333",
   "metadata": {},
   "outputs": [
    {
     "name": "stdout",
     "output_type": "stream",
     "text": [
      "accuracy 0.0990 & 0.0888 & 0.0959 & 0.0918 & 0.0887 & 0.0919\n",
      "coverage 0.3902 & 0.3770 & 0.4795 & 0.4902 & 0.5295 & 0.5428\n",
      "novelty 0.0000 & 0.0000 & 0.0000 & 0.0000 & 0.0000 & 0.0000\n",
      "diversity 0.8255 & 0.7787 & 0.8180 & 0.8922 & 0.7503 & 0.8357\n"
     ]
    }
   ],
   "source": [
    "print_metrics(topk_metrics)"
   ]
  },
  {
   "cell_type": "code",
   "execution_count": 8,
   "id": "7209a61f-3e16-4f43-a52a-4da35dc4606a",
   "metadata": {},
   "outputs": [
    {
     "name": "stdout",
     "output_type": "stream",
     "text": [
      "accuracy 0.0961 & 0.0883 & 0.0806 & 0.0854 & 0.0778 & 0.0826\n",
      "coverage 0.3672 & 0.3820 & 0.4095 & 0.4663 & 0.4705 & 0.5230\n",
      "novelty 0.0000 & 0.0000 & 0.0000 & 0.0000 & 0.0000 & 0.0000\n",
      "diversity 0.8303 & 0.8469 & 0.9558 & 0.8164 & 0.9327 & 0.8723\n"
     ]
    }
   ],
   "source": [
    "print_metrics(mc_metrics)"
   ]
  },
  {
   "cell_type": "code",
   "execution_count": null,
   "id": "7f16ec50-7b97-46d2-803c-3697c8412071",
   "metadata": {},
   "outputs": [],
   "source": []
  }
 ],
 "metadata": {
  "kernelspec": {
   "display_name": "Python 3 (ipykernel)",
   "language": "python",
   "name": "python3"
  },
  "language_info": {
   "codemirror_mode": {
    "name": "ipython",
    "version": 3
   },
   "file_extension": ".py",
   "mimetype": "text/x-python",
   "name": "python",
   "nbconvert_exporter": "python",
   "pygments_lexer": "ipython3",
   "version": "3.10.11"
  }
 },
 "nbformat": 4,
 "nbformat_minor": 5
}
