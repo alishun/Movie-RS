{
 "cells": [
  {
   "cell_type": "code",
   "execution_count": 1,
   "id": "5bfdc734-9039-4980-a723-4b657b7c5a48",
   "metadata": {},
   "outputs": [],
   "source": [
    "import pandas as pd\n",
    "import numpy as np\n",
    "from sklearn.model_selection import KFold,train_test_split\n",
    "from collections import defaultdict\n",
    "import matplotlib.pyplot as plt\n",
    "\n",
    "from models.simple import SimpleRS\n",
    "from models.max_coverage import MaxCoverageRS\n",
    "from tools.print import print_metrics"
   ]
  },
  {
   "cell_type": "code",
   "execution_count": 2,
   "id": "6b22c57b-f4be-46df-beb2-df38aa7f67db",
   "metadata": {},
   "outputs": [],
   "source": [
    "ratings_df = pd.read_csv('datasets/ml-latest-small/ratings.csv', encoding='latin-1')"
   ]
  },
  {
   "cell_type": "code",
   "execution_count": 3,
   "id": "d6fa5c8b-33f3-4a19-a4ef-38d0a5349e87",
   "metadata": {},
   "outputs": [],
   "source": [
    "def run(model_class, data, start=5, stop=11):\n",
    "    metrics = []\n",
    "    \n",
    "    for i in range(start,stop):\n",
    "        train_df, test_df = train_test_split(data, test_size=0.2)\n",
    "\n",
    "        watched = test_df.groupby('userId')['movieId'].apply(list).reset_index()\n",
    "        true = watched['movieId'].tolist()\n",
    "        \n",
    "        model = model_class(i)\n",
    "        model.fit(train_df)\n",
    "        \n",
    "        predictions = model.predict(test_df)\n",
    "        metrics.append(model.calculate_metrics(predictions, true))\n",
    "    return metrics\n",
    "\n",
    "topk_metrics = run(SimpleRS, ratings_df)\n",
    "mc_metrics = run(MaxCoverageRS, ratings_df)"
   ]
  },
  {
   "cell_type": "code",
   "execution_count": 4,
   "id": "3258e15f-5b3f-4766-a683-3e5576f01333",
   "metadata": {},
   "outputs": [
    {
     "name": "stdout",
     "output_type": "stream",
     "text": [
      "accuracy 0.1000 & 0.1036 & 0.0927 & 0.0826 & 0.0814 & 0.0816\n",
      "coverage 0.3803 & 0.4475 & 0.4696 & 0.4377 & 0.4762 & 0.5393\n",
      "novelty 0.0000 & 0.0000 & 0.0000 & 0.0000 & 0.0000 & 0.0000\n",
      "diversity 0.9181 & 0.8645 & 0.8857 & 0.9462 & 0.8598 & 0.9382\n"
     ]
    }
   ],
   "source": [
    "print_metrics(topk_metrics)"
   ]
  },
  {
   "cell_type": "code",
   "execution_count": 5,
   "id": "7209a61f-3e16-4f43-a52a-4da35dc4606a",
   "metadata": {},
   "outputs": [
    {
     "name": "stdout",
     "output_type": "stream",
     "text": [
      "accuracy 0.0898 & 0.0872 & 0.0856 & 0.0922 & 0.0786 & 0.0670\n",
      "coverage 0.3475 & 0.4131 & 0.4253 & 0.4984 & 0.4647 & 0.4548\n",
      "novelty 0.0000 & 0.0000 & 0.0000 & 0.0000 & 0.0000 & 0.0000\n",
      "diversity 0.8678 & 0.7793 & 0.8416 & 0.8710 & 0.8781 & 0.9605\n"
     ]
    }
   ],
   "source": [
    "print_metrics(mc_metrics)"
   ]
  }
 ],
 "metadata": {
  "kernelspec": {
   "display_name": "Python 3 (ipykernel)",
   "language": "python",
   "name": "python3"
  },
  "language_info": {
   "codemirror_mode": {
    "name": "ipython",
    "version": 3
   },
   "file_extension": ".py",
   "mimetype": "text/x-python",
   "name": "python",
   "nbconvert_exporter": "python",
   "pygments_lexer": "ipython3",
   "version": "3.10.11"
  }
 },
 "nbformat": 4,
 "nbformat_minor": 5
}
